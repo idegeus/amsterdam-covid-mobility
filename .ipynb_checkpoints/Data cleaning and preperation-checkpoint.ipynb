{
 "cells": [
  {
   "cell_type": "code",
   "execution_count": null,
   "metadata": {},
   "outputs": [],
   "source": [
    "import pandas as pd\n",
    "import numpy as np\n",
    "import matplotlib.pylab as plt\n",
    "import seaborn as sns\n",
    "import os\n",
    "from pathlib import Path\n",
    "import seaborn as sns\n",
    "from tqdm import tqdm\n"
   ]
  },
  {
   "cell_type": "code",
   "execution_count": null,
   "metadata": {},
   "outputs": [],
   "source": [
    "path = os.getcwd() + \"/Notebook\"\n",
    "files = os.listdir(path) \n",
    "months = [i for i in files if str(i).isnumeric()]\n"
   ]
  },
  {
   "cell_type": "code",
   "execution_count": null,
   "metadata": {},
   "outputs": [],
   "source": [
    "for i in tqdm(months):\n",
    "    dataframes=[]\n",
    "    thisdir = os.getcwd() + \"/Notebook\" +\"/\" +str(i)\n",
    "    for j in os.listdir(thisdir):\n",
    "        if j.isnumeric():\n",
    "            dir2 = os.listdir(thisdir+\"/\"+str(j))\n",
    "            for k in dir2:\n",
    "                if 'Reis_Bestemming_Datum' in k: \n",
    "                    file_dir = thisdir + \"/\" + j + \"/\" + k\n",
    "                    df = pd.read_csv(str(file_dir),sep=';')\n",
    "                    #Clean stuff\n",
    "                    df = df[df.AankomstHalteNaam != 'Overig']\n",
    "                    df = df[df.AankomstHalteNaam != '[[ Onbekend ]]']\n",
    "                    \n",
    "                    df = df.dropna()\n",
    "\n",
    "                    df = df.sort_values(by=['Datum'])\n",
    "                    dataframes.append(df)\n",
    "                    \n",
    "    merged = pd.concat(dataframes, ignore_index=True)\n",
    "    merged.to_csv('merged' + str(i) + \".csv\")\n",
    "        \n",
    "    "
   ]
  },
  {
   "cell_type": "code",
   "execution_count": null,
   "metadata": {},
   "outputs": [],
   "source": [
    "#all to one file\n",
    "filelist=[]\n",
    "for i in tqdm(months):\n",
    "    dataframes=[]\n",
    "    thisdir = os.getcwd() + \"/Notebook\" +\"/\" +str(i)\n",
    "    for j in os.listdir(thisdir):\n",
    "        if j.isnumeric():\n",
    "            dir2 = os.listdir(thisdir+\"/\"+str(j))\n",
    "            for k in dir2:\n",
    "                if 'Reis_Bestemming_Datum' in k: \n",
    "                    file_dir = thisdir + \"/\" + j + \"/\" + k\n",
    "                    df = pd.read_csv(str(file_dir),sep=';')\n",
    "                        #Clean stuff\n",
    "                    df = df[df.AankomstHalteNaam != 'Overig']\n",
    "                    df = df[df.AankomstHalteNaam != '[[ Onbekend ]]']\n",
    "                    \n",
    "                    df = df.dropna()\n",
    "\n",
    "                    dataframes.append(df)\n",
    "    \n",
    "    merged = pd.concat(dataframes, ignore_index=True)\n",
    "    filelist.append(merged)\n",
    "    \n",
    "    \n",
    "final_merged = pd.concat(filelist, ignore_index=True)"
   ]
  },
  {
   "cell_type": "code",
   "execution_count": null,
   "metadata": {},
   "outputs": [],
   "source": [
    "final_merged['Modaliteit'] = final_merged.AankomstHalteCode.str.isnumeric()\n",
    "final_merged.Modaliteit = final_merged.Modaliteit.replace(to_replace=[True],value='Tram of bus')\n",
    "final_merged.Modaliteit = final_merged.Modaliteit.replace(to_replace=[False],value='Metro')\n",
    "final_merged.to_csv(\"Bestemming_Datum_merged.csv\")"
   ]
  },
  {
   "cell_type": "code",
   "execution_count": null,
   "metadata": {},
   "outputs": [],
   "source": [
    "final_merged.Modaliteit.value_counts()"
   ]
  },
  {
   "cell_type": "code",
   "execution_count": null,
   "metadata": {},
   "outputs": [],
   "source": [
    "ModaliteitTypes = pd.DataFrame(final_merged.groupby('AankomstHalteNaam')['Modaliteit'].apply(list).apply(set)).reset_index()\n"
   ]
  },
  {
   "cell_type": "code",
   "execution_count": null,
   "metadata": {},
   "outputs": [],
   "source": [
    "droppedduplicates = final_merged.drop_duplicates(subset=['AankomstHalteNaam']).dropna(axis=1)"
   ]
  },
  {
   "cell_type": "code",
   "execution_count": null,
   "metadata": {},
   "outputs": [],
   "source": [
    "Final_merged_one_location = pd.merge(final_merged,droppedduplicates, on=\"AankomstHalteNaam\",how='outer')[[\"Datum_y\", \"AankomstHalteCode_x\", \"AankomstLat_y\",\"AankomstHalteNaam\" ,\"AankomstLon_y\", \"AantalReizen_x\", \"Modaliteit_x\"]]"
   ]
  },
  {
   "cell_type": "code",
   "execution_count": null,
   "metadata": {},
   "outputs": [],
   "source": [
    "Final_merged_one_location.Modaliteit_x.value_counts()"
   ]
  },
  {
   "cell_type": "code",
   "execution_count": null,
   "metadata": {},
   "outputs": [],
   "source": [
    "Final_merged_one_location.to_csv(\"Bestemming_Datum_merged_one_location.csv\")"
   ]
  },
  {
   "cell_type": "code",
   "execution_count": null,
   "metadata": {},
   "outputs": [],
   "source": [
    "#Uur to one file \n",
    "filelist=[]\n",
    "for i in tqdm(months):\n",
    "    dataframes=[]\n",
    "    thisdir = os.getcwd() + \"/Notebook\" +\"/\" +str(i)\n",
    "    for j in os.listdir(thisdir):\n",
    "        if j.isnumeric():\n",
    "            dir2 = os.listdir(thisdir+\"/\"+str(j))\n",
    "            for k in dir2:\n",
    "                if 'Reis_Bestemming_Uur' in k: \n",
    "                    file_dir = thisdir + \"/\" + j + \"/\" + k\n",
    "                    df = pd.read_csv(str(file_dir),sep=None,engine='python')\n",
    "                        #Clean stuff\n",
    "                    if \"AankomstHalteNaam\" in df.columns:\n",
    "                        df = df[df.AankomstHalteNaam != 'Overig']\n",
    "                        df = df[df.AankomstHalteNaam != '[[ Onbekend ]]']\n",
    "                    \n",
    "                    df = df.dropna()\n",
    "\n",
    "                    dataframes.append(df)\n",
    "    \n",
    "    merged = pd.concat(dataframes, ignore_index=True)\n",
    "    filelist.append(merged)\n",
    "    \n",
    "    \n",
    "final_merged_Uur = pd.concat(filelist, ignore_index=True)\n",
    "\n"
   ]
  },
  {
   "cell_type": "code",
   "execution_count": null,
   "metadata": {},
   "outputs": [],
   "source": [
    "final_merged_Uur['Modaliteit'] = final_merged_Uur.AankomstHalteCode.str.isnumeric()\n",
    "final_merged_Uur.Modaliteit = final_merged_Uur.Modaliteit.replace(to_replace=[True],value='Tram of bus')\n",
    "final_merged_Uur.Modaliteit = final_merged_Uur.Modaliteit.replace(to_replace=[False],value='Metro')\n",
    "\n",
    "final_merged_Uur.Datum =pd.to_datetime(final_merged_Uur.Datum)\n",
    "\n",
    "final_merged_Uur = final_merged_Uur.sort_values(by=['Datum'])\n",
    "final_merged_Uur = final_merged_Uur.drop(\"Unnamed: 0\",axis=1)\n",
    "final_merged_Uur = final_merged_Uur.dropna()\n",
    "#final_merged_Uur.to_csv(\"Bestemming_Uur_merged.csv\")"
   ]
  },
  {
   "cell_type": "code",
   "execution_count": null,
   "metadata": {},
   "outputs": [],
   "source": [
    "final_merged_Uur.head()"
   ]
  },
  {
   "cell_type": "code",
   "execution_count": null,
   "metadata": {},
   "outputs": [],
   "source": [
    "droppedduplicates = final_merged_Uur.drop_duplicates(subset=['AankomstHalteNaam']).dropna(axis=1)"
   ]
  },
  {
   "cell_type": "code",
   "execution_count": null,
   "metadata": {},
   "outputs": [],
   "source": [
    "Final_merged_Uur_one_location = pd.merge(final_merged_Uur,droppedduplicates, on=\"AankomstHalteNaam\",how='outer')[[\"Datum_y\", \"AankomstHalteCode_x\", \"AankomstLat_y\",\"AankomstHalteNaam\" ,\"AankomstLon_y\", \"AantalReizen_x\", \"Modaliteit_x\"]]"
   ]
  },
  {
   "cell_type": "code",
   "execution_count": null,
   "metadata": {},
   "outputs": [],
   "source": [
    "Final_merged_Uur_one_location.columns = [\"Datum\", \"AankomstHalteCode\", \"AankomstLat\",\"AankomstHalteNaam\" ,\"AankomstLon\", \"AantalReizen\", \"Modaliteit\"]"
   ]
  },
  {
   "cell_type": "code",
   "execution_count": null,
   "metadata": {},
   "outputs": [],
   "source": [
    "Final_merged_Uur_one_location.to_csv(\"Bestemming_Uur_merged_one_location.csv\")"
   ]
  },
  {
   "cell_type": "code",
   "execution_count": null,
   "metadata": {},
   "outputs": [],
   "source": [
    "pd.set_option('display.max_columns', 1000)  # or 1000\n",
    "pd.set_option('display.max_rows', 1000)  # or 1000\n",
    "pd.set_option('display.max_colwidth', 199)  # or 199"
   ]
  },
  {
   "cell_type": "code",
   "execution_count": null,
   "metadata": {},
   "outputs": [],
   "source": [
    "final_merged_Uur.to_csv(\"Bestemming_Uur_merged.csv\")"
   ]
  },
  {
   "cell_type": "code",
   "execution_count": null,
   "metadata": {},
   "outputs": [],
   "source": [
    "final_merged_Uur"
   ]
  }
 ],
 "metadata": {
  "kernelspec": {
   "display_name": "Python 3",
   "language": "python",
   "name": "python3"
  },
  "language_info": {
   "codemirror_mode": {
    "name": "ipython",
    "version": 3
   },
   "file_extension": ".py",
   "mimetype": "text/x-python",
   "name": "python",
   "nbconvert_exporter": "python",
   "pygments_lexer": "ipython3",
   "version": "3.7.4"
  }
 },
 "nbformat": 4,
 "nbformat_minor": 4
}
