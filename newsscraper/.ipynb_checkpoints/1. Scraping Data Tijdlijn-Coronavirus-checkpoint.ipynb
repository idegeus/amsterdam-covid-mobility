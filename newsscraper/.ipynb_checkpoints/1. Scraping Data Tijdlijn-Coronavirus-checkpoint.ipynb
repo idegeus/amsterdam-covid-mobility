{
 "cells": [
  {
   "cell_type": "code",
   "execution_count": 115,
   "metadata": {
    "ExecuteTime": {
     "end_time": "2021-01-07T11:04:32.783484Z",
     "start_time": "2021-01-07T11:04:32.779190Z"
    }
   },
   "outputs": [],
   "source": [
    "import pandas as pd\n",
    "import numpy as np\n",
    "import requests\n",
    "from bs4 import BeautifulSoup\n",
    "from datetime import datetime\n",
    "from collections import defaultdict"
   ]
  },
  {
   "cell_type": "code",
   "execution_count": 114,
   "metadata": {
    "ExecuteTime": {
     "end_time": "2021-01-07T11:03:37.857430Z",
     "start_time": "2021-01-07T11:03:37.693274Z"
    }
   },
   "outputs": [],
   "source": [
    "# Retrieve page from Amsterdam\n",
    "URL = 'https://www.amsterdam.nl/nieuws/coronavirus/nieuwsoverzicht-coronavirus/'\n",
    "page = requests.get(URL)\n",
    "text = page.text"
   ]
  },
  {
   "cell_type": "markdown",
   "metadata": {},
   "source": [
    "**Beautifulsoup Documentation**\n",
    "\n",
    "https://beautiful-soup-4.readthedocs.io/en/latest/"
   ]
  },
  {
   "cell_type": "code",
   "execution_count": 106,
   "metadata": {
    "ExecuteTime": {
     "end_time": "2021-01-07T10:55:52.270235Z",
     "start_time": "2021-01-07T10:55:52.007734Z"
    },
    "scrolled": true
   },
   "outputs": [],
   "source": [
    "# Let's make some nice soup, a Caldo de Peix for example. \n",
    "soup = BeautifulSoup(text, 'html.parser')\n",
    "ams_news = soup.find(id='PagCls_15511847').find(class_='tekst')\n",
    "\n",
    "# Remove and unwrap container elements. \n",
    "for el in ams_news.find_all('div'):\n",
    "    el.unwrap()\n",
    "for el in ams_news.find_all(class_='visuallyhidden'):\n",
    "    el.decompose()\n",
    "for el in ams_news.find_all(class_='datetime'):\n",
    "    el.unwrap()\n",
    "for el in ams_news.find_all(class_='siteLink'):\n",
    "    if el.parent.name == 'p':\n",
    "        el.parent.unwrap()\n",
    "\n",
    "# # Print example of cleaned HTML code.\n",
    "# print(ams_news.prettify())"
   ]
  },
  {
   "cell_type": "code",
   "execution_count": 113,
   "metadata": {
    "ExecuteTime": {
     "end_time": "2021-01-07T11:02:50.215786Z",
     "start_time": "2021-01-07T11:02:50.131775Z"
    },
    "scrolled": false
   },
   "outputs": [
    {
     "data": {
      "text/html": [
       "<div>\n",
       "<style scoped>\n",
       "    .dataframe tbody tr th:only-of-type {\n",
       "        vertical-align: middle;\n",
       "    }\n",
       "\n",
       "    .dataframe tbody tr th {\n",
       "        vertical-align: top;\n",
       "    }\n",
       "\n",
       "    .dataframe thead th {\n",
       "        text-align: right;\n",
       "    }\n",
       "</style>\n",
       "<table border=\"1\" class=\"dataframe\">\n",
       "  <thead>\n",
       "    <tr style=\"text-align: right;\">\n",
       "      <th></th>\n",
       "      <th>title</th>\n",
       "      <th>descr</th>\n",
       "      <th>link_href</th>\n",
       "      <th>link_desc</th>\n",
       "      <th>descr2</th>\n",
       "    </tr>\n",
       "    <tr>\n",
       "      <th>timestamp</th>\n",
       "      <th></th>\n",
       "      <th></th>\n",
       "      <th></th>\n",
       "      <th></th>\n",
       "      <th></th>\n",
       "    </tr>\n",
       "  </thead>\n",
       "  <tbody>\n",
       "    <tr>\n",
       "      <td>2020-02-28 19:22:00</td>\n",
       "      <td>Persconferentie</td>\n",
       "      <td>Naar aanleiding van de besmetting van een Amst...</td>\n",
       "      <td>NaN</td>\n",
       "      <td>NaN</td>\n",
       "      <td>De GGD Amsterdam is op basis van de landelijke...</td>\n",
       "    </tr>\n",
       "    <tr>\n",
       "      <td>2020-02-29 13:08:00</td>\n",
       "      <td>2 contacten testten positief voor COVID-19</td>\n",
       "      <td>Vannacht testten directe contacten van de pati...</td>\n",
       "      <td>NaN</td>\n",
       "      <td>NaN</td>\n",
       "      <td>De GGD Amsterdam benaderde gisteren contacten ...</td>\n",
       "    </tr>\n",
       "    <tr>\n",
       "      <td>2020-02-29 16:42:00</td>\n",
       "      <td>Partner en jongste kind van de besmette vrouw ...</td>\n",
       "      <td>Vandaag is bekend geworden dat de partner en h...</td>\n",
       "      <td>NaN</td>\n",
       "      <td>NaN</td>\n",
       "      <td>De GGD Amsterdam zet daarom het contactonderzo...</td>\n",
       "    </tr>\n",
       "    <tr>\n",
       "      <td>2020-03-04 08:36:00</td>\n",
       "      <td>Jongste kind patiënt Diemen heeft het coronavi...</td>\n",
       "      <td>Het jongste kind van de patient in Diemen is t...</td>\n",
       "      <td>NaN</td>\n",
       "      <td>NaN</td>\n",
       "      <td>NaN</td>\n",
       "    </tr>\n",
       "    <tr>\n",
       "      <td>2020-03-04 15:04:00</td>\n",
       "      <td>Nieuw bevestigd geval van het coronavirus in A...</td>\n",
       "      <td>Er is een nieuwe besmetting in Amsterdam. Het ...</td>\n",
       "      <td>NaN</td>\n",
       "      <td>NaN</td>\n",
       "      <td>NaN</td>\n",
       "    </tr>\n",
       "  </tbody>\n",
       "</table>\n",
       "</div>"
      ],
      "text/plain": [
       "                                                                 title  \\\n",
       "timestamp                                                                \n",
       "2020-02-28 19:22:00                                    Persconferentie   \n",
       "2020-02-29 13:08:00         2 contacten testten positief voor COVID-19   \n",
       "2020-02-29 16:42:00  Partner en jongste kind van de besmette vrouw ...   \n",
       "2020-03-04 08:36:00  Jongste kind patiënt Diemen heeft het coronavi...   \n",
       "2020-03-04 15:04:00  Nieuw bevestigd geval van het coronavirus in A...   \n",
       "\n",
       "                                                                 descr  \\\n",
       "timestamp                                                                \n",
       "2020-02-28 19:22:00  Naar aanleiding van de besmetting van een Amst...   \n",
       "2020-02-29 13:08:00  Vannacht testten directe contacten van de pati...   \n",
       "2020-02-29 16:42:00  Vandaag is bekend geworden dat de partner en h...   \n",
       "2020-03-04 08:36:00  Het jongste kind van de patient in Diemen is t...   \n",
       "2020-03-04 15:04:00  Er is een nieuwe besmetting in Amsterdam. Het ...   \n",
       "\n",
       "                    link_href link_desc  \\\n",
       "timestamp                                 \n",
       "2020-02-28 19:22:00       NaN       NaN   \n",
       "2020-02-29 13:08:00       NaN       NaN   \n",
       "2020-02-29 16:42:00       NaN       NaN   \n",
       "2020-03-04 08:36:00       NaN       NaN   \n",
       "2020-03-04 15:04:00       NaN       NaN   \n",
       "\n",
       "                                                                descr2  \n",
       "timestamp                                                               \n",
       "2020-02-28 19:22:00  De GGD Amsterdam is op basis van de landelijke...  \n",
       "2020-02-29 13:08:00  De GGD Amsterdam benaderde gisteren contacten ...  \n",
       "2020-02-29 16:42:00  De GGD Amsterdam zet daarom het contactonderzo...  \n",
       "2020-03-04 08:36:00                                                NaN  \n",
       "2020-03-04 15:04:00                                                NaN  "
      ]
     },
     "execution_count": 113,
     "metadata": {},
     "output_type": "execute_result"
    }
   ],
   "source": [
    "# Loop over all time elements in the upwrapped soup.\n",
    "collection = []\n",
    "for timestamp in ams_news.find_all('time'):\n",
    "    \n",
    "    coldict = defaultdict(str)\n",
    "    # Parse timestamp given\n",
    "    coldict['timestamp'] = datetime.strptime(timestamp.attrs['datetime'], \n",
    "                                             '%Y-%m-%dT%H:%M:%S.0000000')\n",
    "\n",
    "    # Find next elements until next publications\n",
    "    for elem in timestamp.find_next_siblings():\n",
    "        \n",
    "        # Title\n",
    "        if elem.name == 'h3':\n",
    "            coldict['title'] = elem.get_text()\n",
    "            continue\n",
    "            \n",
    "        # First P (paragraph) element encountered as main text. \n",
    "        if elem.name == 'p' and 'descr' not in coldict:\n",
    "            coldict['descr'] = elem.get_text()\n",
    "            continue\n",
    "            \n",
    "        # Other elements added to the secondary description.\n",
    "        if elem.name == 'p' and 'descr' in coldict:\n",
    "            coldict['descr2'] += elem.get_text()\n",
    "            continue\n",
    "            \n",
    "        # If a link is attached, decompose and add to dict. \n",
    "        if elem.name == 'a':\n",
    "            coldict['link_href'] = elem.attrs['href']\n",
    "            coldict['link_desc'] = elem.get_text()\n",
    "            continue\n",
    "        \n",
    "        # If next time-object is found, break loop for next iter.\n",
    "        if elem.name == 'time':\n",
    "            break\n",
    "            \n",
    "    # Add final dict to collection list. \n",
    "    collection.append(coldict)\n",
    "\n",
    "# Create nice pandas, set index and sort. \n",
    "output_df = pd.DataFrame.from_dict(collection)\n",
    "output_df = output_df.set_index('timestamp')\n",
    "output_df = output_df.sort_index()\n",
    "\n",
    "output_df.head()"
   ]
  },
  {
   "cell_type": "code",
   "execution_count": 116,
   "metadata": {
    "ExecuteTime": {
     "end_time": "2021-01-07T11:06:14.963977Z",
     "start_time": "2021-01-07T11:06:14.951252Z"
    }
   },
   "outputs": [],
   "source": [
    "# Output to csv-file. \n",
    "output_df.to_csv('./data-amsterdam-covid-nieuws.csv')"
   ]
  }
 ],
 "metadata": {
  "kernelspec": {
   "display_name": "Python 3",
   "language": "python",
   "name": "python3"
  },
  "language_info": {
   "codemirror_mode": {
    "name": "ipython",
    "version": 3
   },
   "file_extension": ".py",
   "mimetype": "text/x-python",
   "name": "python",
   "nbconvert_exporter": "python",
   "pygments_lexer": "ipython3",
   "version": "3.7.4"
  }
 },
 "nbformat": 4,
 "nbformat_minor": 2
}
