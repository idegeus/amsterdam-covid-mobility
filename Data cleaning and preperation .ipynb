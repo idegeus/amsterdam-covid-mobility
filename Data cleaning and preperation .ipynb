{
 "cells": [
  {
   "cell_type": "code",
   "execution_count": 4,
   "metadata": {},
   "outputs": [],
   "source": [
    "import pandas as pd\n",
    "import numpy as np\n",
    "import matplotlib.pylab as plt\n",
    "import seaborn as sns\n",
    "import os\n",
    "from pathlib import Path\n",
    "import seaborn as sns\n",
    "from tqdm import tqdm\n"
   ]
  },
  {
   "cell_type": "code",
   "execution_count": 5,
   "metadata": {},
   "outputs": [],
   "source": [
    "path = os.getcwd() + \"/Notebook\"\n",
    "files = os.listdir(path) \n",
    "months = [i for i in files if str(i).isnumeric()]\n"
   ]
  },
  {
   "cell_type": "code",
   "execution_count": 3,
   "metadata": {},
   "outputs": [
    {
     "name": "stderr",
     "output_type": "stream",
     "text": [
      "100%|██████████| 12/12 [00:04<00:00,  2.52it/s]\n"
     ]
    }
   ],
   "source": [
    "for i in tqdm(months):\n",
    "    dataframes=[]\n",
    "    thisdir = os.getcwd() + \"/Notebook\" +\"/\" +str(i)\n",
    "    for j in os.listdir(thisdir):\n",
    "        if j.isnumeric():\n",
    "            dir2 = os.listdir(thisdir+\"/\"+str(j))\n",
    "            for k in dir2:\n",
    "                if 'Reis_Bestemming_Datum' in k: \n",
    "                    file_dir = thisdir + \"/\" + j + \"/\" + k\n",
    "                    df = pd.read_csv(str(file_dir),sep=';')\n",
    "                    #Clean stuff\n",
    "                    df = df[df.AankomstHalteNaam != 'Overig']\n",
    "                    df = df[df.AankomstHalteNaam != '[[ Onbekend ]]']\n",
    "                    \n",
    "                    df = df.dropna()\n",
    "\n",
    "                    df = df.sort_values(by=['Datum'])\n",
    "                    dataframes.append(df)\n",
    "                    \n",
    "    merged = pd.concat(dataframes, ignore_index=True)\n",
    "    merged.to_csv('merged' + str(i) + \".csv\")\n",
    "        \n",
    "    "
   ]
  },
  {
   "cell_type": "code",
   "execution_count": 4,
   "metadata": {},
   "outputs": [
    {
     "name": "stderr",
     "output_type": "stream",
     "text": [
      "100%|██████████| 12/12 [00:01<00:00, 10.76it/s]\n"
     ]
    }
   ],
   "source": [
    "#all to one file\n",
    "filelist=[]\n",
    "for i in tqdm(months):\n",
    "    dataframes=[]\n",
    "    thisdir = os.getcwd() + \"/Notebook\" +\"/\" +str(i)\n",
    "    for j in os.listdir(thisdir):\n",
    "        if j.isnumeric():\n",
    "            dir2 = os.listdir(thisdir+\"/\"+str(j))\n",
    "            for k in dir2:\n",
    "                if 'Reis_Bestemming_Datum' in k: \n",
    "                    file_dir = thisdir + \"/\" + j + \"/\" + k\n",
    "                    df = pd.read_csv(str(file_dir),sep=';')\n",
    "                        #Clean stuff\n",
    "                    df = df[df.AankomstHalteNaam != 'Overig']\n",
    "                    df = df[df.AankomstHalteNaam != '[[ Onbekend ]]']\n",
    "                    \n",
    "                    df = df.dropna()\n",
    "\n",
    "                    dataframes.append(df)\n",
    "    \n",
    "    merged = pd.concat(dataframes, ignore_index=True)\n",
    "    filelist.append(merged)\n",
    "    \n",
    "    \n",
    "final_merged = pd.concat(filelist, ignore_index=True)"
   ]
  },
  {
   "cell_type": "code",
   "execution_count": 5,
   "metadata": {},
   "outputs": [],
   "source": [
    "final_merged['Modaliteit'] = final_merged.AankomstHalteCode.str.isnumeric()\n",
    "final_merged.Modaliteit = final_merged.Modaliteit.replace(to_replace=[True],value='Tram of bus')\n",
    "final_merged.Modaliteit = final_merged.Modaliteit.replace(to_replace=[False],value='Metro')\n",
    "final_merged.to_csv(\"Bestemming_Datum_merged.csv\")"
   ]
  },
  {
   "cell_type": "code",
   "execution_count": null,
   "metadata": {},
   "outputs": [],
   "source": []
  },
  {
   "cell_type": "code",
   "execution_count": 6,
   "metadata": {},
   "outputs": [
    {
     "data": {
      "text/plain": [
       "Tram of bus    656398\n",
       "Metro           29630\n",
       "Name: Modaliteit, dtype: int64"
      ]
     },
     "execution_count": 6,
     "metadata": {},
     "output_type": "execute_result"
    }
   ],
   "source": [
    "final_merged.Modaliteit.value_counts()"
   ]
  },
  {
   "cell_type": "code",
   "execution_count": 256,
   "metadata": {},
   "outputs": [
    {
     "ename": "NameError",
     "evalue": "name 'final_merged' is not defined",
     "output_type": "error",
     "traceback": [
      "\u001b[0;31m---------------------------------------------------------------------------\u001b[0m",
      "\u001b[0;31mNameError\u001b[0m                                 Traceback (most recent call last)",
      "\u001b[0;32m<ipython-input-256-45cf31d68f56>\u001b[0m in \u001b[0;36m<module>\u001b[0;34m\u001b[0m\n\u001b[0;32m----> 1\u001b[0;31m \u001b[0mModaliteitTypes\u001b[0m \u001b[0;34m=\u001b[0m \u001b[0mpd\u001b[0m\u001b[0;34m.\u001b[0m\u001b[0mDataFrame\u001b[0m\u001b[0;34m(\u001b[0m\u001b[0mfinal_merged\u001b[0m\u001b[0;34m.\u001b[0m\u001b[0mgroupby\u001b[0m\u001b[0;34m(\u001b[0m\u001b[0;34m'AankomstHalteNaam'\u001b[0m\u001b[0;34m)\u001b[0m\u001b[0;34m[\u001b[0m\u001b[0;34m'Modaliteit'\u001b[0m\u001b[0;34m]\u001b[0m\u001b[0;34m.\u001b[0m\u001b[0mapply\u001b[0m\u001b[0;34m(\u001b[0m\u001b[0mlist\u001b[0m\u001b[0;34m)\u001b[0m\u001b[0;34m.\u001b[0m\u001b[0mapply\u001b[0m\u001b[0;34m(\u001b[0m\u001b[0mset\u001b[0m\u001b[0;34m)\u001b[0m\u001b[0;34m)\u001b[0m\u001b[0;34m.\u001b[0m\u001b[0mreset_index\u001b[0m\u001b[0;34m(\u001b[0m\u001b[0;34m)\u001b[0m\u001b[0;34m\u001b[0m\u001b[0;34m\u001b[0m\u001b[0m\n\u001b[0m",
      "\u001b[0;31mNameError\u001b[0m: name 'final_merged' is not defined"
     ]
    }
   ],
   "source": [
    "ModaliteitTypes = pd.DataFrame(final_merged.groupby('AankomstHalteNaam')['Modaliteit'].apply(list).apply(set)).reset_index()\n",
    "ModaliteitTypes"
   ]
  },
  {
   "cell_type": "code",
   "execution_count": 9,
   "metadata": {},
   "outputs": [],
   "source": [
    "#Give all trams and station of the same location the same coordinates\n",
    "\n",
    "droppedduplicates = final_merged.drop_duplicates(subset=['AankomstHalteNaam']).dropna(axis=1)\n",
    "Final_merged_one_location = pd.merge(final_merged,droppedduplicates, on=\"AankomstHalteNaam\",how='outer')[[\"Datum_x\", \"AankomstHalteCode_x\", \"AankomstLat_y\",\"AankomstHalteNaam\" ,\"AankomstLon_y\", \"AantalReizen_x\", \"Modaliteit_x\"]]"
   ]
  },
  {
   "cell_type": "code",
   "execution_count": 10,
   "metadata": {},
   "outputs": [],
   "source": [
    "Final_merged_one_location.to_csv(\"Bestemming_Datum_merged_one_location.csv\")"
   ]
  },
  {
   "cell_type": "code",
   "execution_count": null,
   "metadata": {},
   "outputs": [],
   "source": []
  },
  {
   "cell_type": "code",
   "execution_count": 43,
   "metadata": {},
   "outputs": [
    {
     "name": "stderr",
     "output_type": "stream",
     "text": [
      "100%|██████████| 12/12 [01:04<00:00,  5.35s/it]\n"
     ]
    }
   ],
   "source": [
    "#Raw Uur to one file \n",
    "raw_filelist=[]\n",
    "for i in tqdm(months):\n",
    "    dataframes=[]\n",
    "    thisdir = os.getcwd() + \"/Notebook\" +\"/\" +str(i)\n",
    "    for j in os.listdir(thisdir):\n",
    "        if j.isnumeric():\n",
    "            dir2 = os.listdir(thisdir+\"/\"+str(j))\n",
    "            for k in dir2:\n",
    "                if 'Reis_Bestemming_Uur' in k: \n",
    "                    file_dir = thisdir + \"/\" + j + \"/\" + k\n",
    "                    df = pd.read_csv(str(file_dir),sep=None,engine='python')\n",
    "                        #Clean stuff\n",
    "#                     if \"AankomstHalteNaam\" in df.columns:\n",
    "#                         df = df[df.AankomstHalteNaam != 'Overig']\n",
    "#                         df = df[df.AankomstHalteNaam != '[[ Onbekend ]]']\n",
    "                    \n",
    "#                     df = df.dropna()\n",
    "\n",
    "                    dataframes.append(df)\n",
    "    \n",
    "    merged = pd.concat(dataframes, ignore_index=True)\n",
    "    raw_filelist.append(merged)\n",
    "final_merged_Uur_raw_ = pd.concat(raw_filelist, ignore_index=True)\n",
    "\n",
    "\n",
    "final_merged_Uur_raw_.Datum = final_merged_Uur_raw_.sort_values(by=['Datum'])"
   ]
  },
  {
   "cell_type": "code",
   "execution_count": 53,
   "metadata": {},
   "outputs": [],
   "source": [
    "final_merged_Uur_raw = final_merged_Uur_raw_.copy()"
   ]
  },
  {
   "cell_type": "code",
   "execution_count": 54,
   "metadata": {},
   "outputs": [],
   "source": [
    "#Feature engineering\n",
    "final_merged_Uur_raw['Modaliteit'] = final_merged_Uur_raw.AankomstHalteCode.str.isnumeric()\n",
    "final_merged_Uur_raw.Modaliteit = final_merged_Uur_raw.Modaliteit.replace(to_replace=[True],value='Tram of bus')\n",
    "final_merged_Uur_raw.Modaliteit = final_merged_Uur_raw.Modaliteit.replace(to_replace=[False],value='Metro')"
   ]
  },
  {
   "cell_type": "code",
   "execution_count": 55,
   "metadata": {},
   "outputs": [],
   "source": [
    "#Impute Nans and other uknown values as \"missing\"\n",
    "\n",
    "final_merged_Uur_raw = final_merged_Uur_raw.drop(\"Unnamed: 0\",axis=1)\n",
    "final_merged_Uur_raw = final_merged_Uur_raw.fillna('Missing')\n",
    "final_merged_Uur_raw.AankomstHalteNaam = final_merged_Uur_raw.AankomstHalteNaam.replace(to_replace=['Overig'],value= 'Missing')\n",
    "final_merged_Uur_raw.AankomstHalteNaam = final_merged_Uur_raw.AankomstHalteNaam.replace(to_replace=['[[ Onbekend ]]'],value= 'Missing')\n",
    "final_merged_Uur_raw.AankomstHalteCode = final_merged_Uur_raw.AankomstHalteCode.replace(to_replace=['[[ Onb'],value= 'Missing')\n",
    "final_merged_Uur_raw.AankomstHalteNaam = final_merged_Uur_raw.AankomstHalteNaam.replace(to_replace=[''],value= 'Missing')"
   ]
  },
  {
   "cell_type": "code",
   "execution_count": 15,
   "metadata": {},
   "outputs": [],
   "source": [
    "\n",
    "\n",
    "percentage_missing = dict(final_merged_Uur_raw[final_merged_Uur_raw == 'Missing'].count())\n",
    "percentage_missing = pd.DataFrame.from_dict(percentage_missing, orient='index')\n",
    "percentage_missing"
   ]
  },
  {
   "cell_type": "code",
   "execution_count": 27,
   "metadata": {},
   "outputs": [
    {
     "data": {
      "image/png": "[encoded data removed]",
      "text/plain": [
       "<Figure size 432x288 with 1 Axes>"
      ]
     },
     "metadata": {
      "needs_background": "light"
     },
     "output_type": "display_data"
    }
   ],
   "source": [
    "splot=sns.barplot(data=percentage_missing, y=0, x=percentage_missing.index)\n",
    "\n",
    "splot.set_xticklabels(labels =percentage_missing.index, rotation=90)\n",
    "splot.set_yscale(\"log\")"
   ]
  },
  {
   "cell_type": "code",
   "execution_count": 21,
   "metadata": {},
   "outputs": [],
   "source": [
    "\n",
    "temp = final_merged_Uur_raw.groupby(['AankomstHalteNaam','UurgroepOmschrijving (van aankomst)']).count()\n",
    "\n",
    "missing_dict= {}\n",
    "for i in dict(temp[\"Datum\"]).items():\n",
    "    if i[0][1] == \"Missing\":\n",
    "        missing_dict[i[0][0]] = i[1]\n",
    "        \n",
    "missings = pd.DataFrame.from_dict(missing_dict, orient='index')\n",
    "total = pd.DataFrame(temp[\"Datum\"]).reset_index().groupby(\"AankomstHalteNaam\").sum()\n",
    "missings['total'] = total\n",
    "missings['percentage_missing'] = missings[0]/missings.total*100\n",
    "\n",
    "plt.figure(figsize=(8, 100))\n",
    "\n",
    "missings.sort_values('percentage_missing',ascending=False).percentage_missing.plot.barh()\n",
    "\n",
    "\n"
   ]
  },
  {
   "cell_type": "code",
   "execution_count": null,
   "metadata": {},
   "outputs": [],
   "source": [
    "#data engineer missing values per week\n",
    "\n",
    "df = final_merged_Uur_raw\n",
    "\n",
    "df['formatted_date'] = pd.to_datetime(df['Datum'])\n",
    "df['day_of_year'] = df.formatted_date.apply(lambda x: x.dayofyear)\n",
    "df['week_of_year'] = df.formatted_date.apply(lambda x: x.weekofyear)\n",
    "df['year'] = df.formatted_date.apply(lambda x: x.year)\n",
    "df = df.groupby(['year','week_of_year','UurgroepOmschrijving (van aankomst)']).count()[\"Datum\"].reset_index()\n",
    "df['year_weeknumber'] = df.year.astype(str) + \"-\"+ df.week_of_year.astype(str)"
   ]
  },
  {
   "cell_type": "code",
   "execution_count": 212,
   "metadata": {},
   "outputs": [
    {
     "name": "stderr",
     "output_type": "stream",
     "text": [
      "<ipython-input-212-583c26a01f22>:3: SettingWithCopyWarning: \n",
      "A value is trying to be set on a copy of a slice from a DataFrame.\n",
      "Try using .loc[row_indexer,col_indexer] = value instead\n",
      "\n",
      "See the caveats in the documentation: https://pandas.pydata.org/pandas-docs/stable/user_guide/indexing.html#returning-a-view-versus-a-copy\n",
      "  temp[\"Percentage_missing\"]= temp.Datum.values / totals.Datum.values *100\n"
     ]
    }
   ],
   "source": [
    "#data engineer missing values per week\n",
    "\n",
    "\n",
    "totals = df.groupby(['year','week_of_year']).sum().reset_index()\n",
    "\n",
    "\n",
    "temp = df[df['UurgroepOmschrijving (van aankomst)'] == 'Missing']\n",
    "temp['year_weeknumber'] = temp.year.astype(str) + \"-\"+ temp.week_of_year.astype(str)\n",
    "\n",
    "totals = totals[totals.year_weeknumber.isin(temp.year_weeknumber)]\n",
    "\n",
    "temp[\"Percentage_missing\"]= temp.Datum.values / totals.Datum.values *100\n",
    "temp = temp.rename(columns={\"year_weeknumber\": \"Week number\"})\n",
    "\n"
   ]
  },
  {
   "cell_type": "code",
   "execution_count": 254,
   "metadata": {},
   "outputs": [
    {
     "data": {
      "text/plain": [
       "<matplotlib.axes._subplots.AxesSubplot at 0x7fa6fba71b20>"
      ]
     },
     "execution_count": 254,
     "metadata": {},
     "output_type": "execute_result"
    },
    {
     "data": {
      "image/png": "[encoded data removed]",
      "text/plain": [
       "<Figure size 1440x576 with 1 Axes>"
      ]
     },
     "metadata": {
      "needs_background": "light"
     },
     "output_type": "display_data"
    }
   ],
   "source": [
    "\n",
    "#visualize missing data per week \n",
    "\n",
    "fig, ax = plt.subplots(figsize=(20,8))\n",
    "\n",
    "plt.xlabel(\"Week number\")\n",
    "\n",
    "\n",
    "ax.set_yscale('log')\n",
    "ax.set_ylabel('Log percentage missing per week ')\n",
    "\n",
    "ax.set_xlabel(\"Week number\")\n",
    "\n",
    "\n",
    "temp.set_index('Week number')[\"Percentage_missing\"].plot.bar()\n",
    "\n",
    "\n"
   ]
  },
  {
   "cell_type": "code",
   "execution_count": null,
   "metadata": {},
   "outputs": [],
   "source": [
    "#Uur to one file \n",
    "filelist=[]\n",
    "for i in tqdm(months):\n",
    "    dataframes=[]\n",
    "    thisdir = os.getcwd() + \"/Notebook\" +\"/\" +str(i)\n",
    "    for j in os.listdir(thisdir):\n",
    "        if j.isnumeric():\n",
    "            dir2 = os.listdir(thisdir+\"/\"+str(j))\n",
    "            for k in dir2:\n",
    "                if 'Reis_Bestemming_Uur' in k: \n",
    "                    file_dir = thisdir + \"/\" + j + \"/\" + k\n",
    "                    df = pd.read_csv(str(file_dir),sep=None,engine='python')\n",
    "                        #Clean stuff\n",
    "                    if \"AankomstHalteNaam\" in df.columns:\n",
    "                        df = df[df.AankomstHalteNaam != 'Overig']\n",
    "                        df = df[df.AankomstHalteNaam != '[[ Onbekend ]]']\n",
    "                    \n",
    "                    df = df.dropna()\n",
    "\n",
    "                    dataframes.append(df)\n",
    "    \n",
    "    merged = pd.concat(dataframes, ignore_index=True)\n",
    "    filelist.append(merged)\n",
    "    \n",
    "    \n",
    "final_merged_Uur = pd.concat(filelist, ignore_index=True)\n",
    "\n"
   ]
  },
  {
   "cell_type": "code",
   "execution_count": null,
   "metadata": {},
   "outputs": [],
   "source": [
    "final_merged_Uur['Modaliteit'] = final_merged_Uur.AankomstHalteCode.str.isnumeric()\n",
    "final_merged_Uur.Modaliteit = final_merged_Uur.Modaliteit.replace(to_replace=[True],value='Tram of bus')\n",
    "final_merged_Uur.Modaliteit = final_merged_Uur.Modaliteit.replace(to_replace=[False],value='Metro')\n",
    "\n",
    "final_merged_Uur.Datum =pd.to_datetime(final_merged_Uur.Datum)\n",
    "\n",
    "final_merged_Uur = final_merged_Uur.sort_values(by=['Datum'])\n",
    "final_merged_Uur = final_merged_Uur.drop(\"Unnamed: 0\",axis=1)\n",
    "final_merged_Uur = final_merged_Uur.dropna()\n",
    "#final_merged_Uur.to_csv(\"Bestemming_Uur_merged.csv\")"
   ]
  },
  {
   "cell_type": "code",
   "execution_count": null,
   "metadata": {},
   "outputs": [],
   "source": [
    "final_merged_Uur"
   ]
  },
  {
   "cell_type": "code",
   "execution_count": null,
   "metadata": {},
   "outputs": [],
   "source": [
    "final_merged_Uur.tail()"
   ]
  },
  {
   "cell_type": "code",
   "execution_count": null,
   "metadata": {},
   "outputs": [],
   "source": [
    "droppedduplicates = final_merged_Uur.drop_duplicates(subset=['AankomstHalteNaam']).dropna(axis=1)"
   ]
  },
  {
   "cell_type": "code",
   "execution_count": null,
   "metadata": {},
   "outputs": [],
   "source": [
    "droppedduplicates"
   ]
  },
  {
   "cell_type": "code",
   "execution_count": null,
   "metadata": {},
   "outputs": [],
   "source": [
    "Final_merged_Uur_one_location = pd.merge(final_merged_Uur,droppedduplicates, on=\"AankomstHalteNaam\",how='outer')"
   ]
  },
  {
   "cell_type": "code",
   "execution_count": null,
   "metadata": {},
   "outputs": [],
   "source": [
    "Final_merged_Uur_one_location = Final_merged_Uur_one_location[[\"Datum_x\",\"UurgroepOmschrijving (van aankomst)_x\",\"AankomstHalteCode_x\", \"AankomstHalteNaam\",\"AankomstLat_y\",\"AankomstLon_y\", \"AantalReizen_x\", \"Modaliteit_x\"]]\n",
    "Final_merged_Uur_one_location.columns = droppedduplicates.columns"
   ]
  },
  {
   "cell_type": "code",
   "execution_count": null,
   "metadata": {},
   "outputs": [],
   "source": [
    "Final_merged_Uur_one_location.Datum = Final_merged_Uur_one_location.Datum.sort_index()"
   ]
  },
  {
   "cell_type": "code",
   "execution_count": null,
   "metadata": {},
   "outputs": [],
   "source": [
    "Final_merged_Uur_one_location.Modaliteit.value_counts()"
   ]
  },
  {
   "cell_type": "code",
   "execution_count": null,
   "metadata": {},
   "outputs": [],
   "source": [
    "Final_merged_Uur_one_location[Final_merged_Uur_one_location.AankomstHalteNaam == \"Amstelveenseweg\"]"
   ]
  },
  {
   "cell_type": "code",
   "execution_count": null,
   "metadata": {},
   "outputs": [],
   "source": [
    "Final_merged_Uur_one_location.to_csv(\"Bestemming_Uur_merged_one_location.csv\")"
   ]
  },
  {
   "cell_type": "code",
   "execution_count": null,
   "metadata": {},
   "outputs": [],
   "source": [
    "final_merged_Uur.to_csv(\"Bestemming_Uur_merged.csv\")"
   ]
  }
 ],
 "metadata": {
  "kernelspec": {
   "display_name": "Python 3",
   "language": "python",
   "name": "python3"
  },
  "language_info": {
   "codemirror_mode": {
    "name": "ipython",
    "version": 3
   },
   "file_extension": ".py",
   "mimetype": "text/x-python",
   "name": "python",
   "nbconvert_exporter": "python",
   "pygments_lexer": "ipython3",
   "version": "3.8.3"
  }
 },
 "nbformat": 4,
 "nbformat_minor": 4
}
