{
 "cells": [
  {
   "cell_type": "code",
   "execution_count": null,
   "metadata": {},
   "outputs": [],
   "source": [
    "import pandas as pd\n",
    "import numpy as np\n",
    "import matplotlib.pylab as plt\n",
    "import os\n",
    "from pathlib import Path\n",
    "import datetime\n",
    "import geopy\n",
    "from geopy.geocoders import Nominatim\n",
    "from geopy.extra.rate_limiter import RateLimiter\n",
    "from tqdm import tqdm_notebook as tqdm\n",
    "\n",
    "DROOT = '/Users/joris/Resilio Sync/DSP Coronaproject'"
   ]
  },
  {
   "cell_type": "code",
   "execution_count": null,
   "metadata": {},
   "outputs": [],
   "source": [
    "testdf=pd.read_json(os.path.join(DROOT, 'cmsa/2020/10/25/cmsa-db6e70c3-ba30-4da9-a854-6b9bd6341c6d.json'))\n",
    "testdf.timestamp_rounded=pd.to_datetime(testdf.timestamp_rounded, utc=True)\n",
    "testdf.timestamp_rounded.dt.floor('h')"
   ]
  },
  {
   "cell_type": "code",
   "execution_count": null,
   "metadata": {},
   "outputs": [],
   "source": [
    "thisdir = os.path.abspath(os.getcwd())\n",
    "datadir = os.path.join(DROOT, \"cmsa/2020/\")\n",
    "testdir = os.path.join(DROOT, 'cmsa/2020/12/01/')\n",
    "\n",
    "frames = []\n",
    "overig=[]\n",
    "for r, d, f in os.walk(datadir):\n",
    "    for file in tqdm(f):\n",
    "        if file.endswith(\".json\"):\n",
    "            try:\n",
    "                df= pd.read_json(str(r)+'/'+file)\n",
    "                df=df[df.columns[~df.columns.str.contains('_p', regex=False)]]\n",
    "                df['Location']=df.sensor.str.extract(r'-([a-zA-Z]+)$')\n",
    "                df['sensor_code']=df.sensor.str.extract(r'(^[a-zA-z]+-\\d{2})')\n",
    "                df.timestamp_rounded=pd.to_datetime(testdf.timestamp_rounded, utc=True)\n",
    "                df.timestamp_rounded=df.timestamp_rounded.dt.floor('h')\n",
    "                df=df.merge(coordszonderdup[['coords_sensor_code','street','LAT','LNG']], left_on='sensor_code', right_on='coords_sensor_code', how='left')\n",
    "                final=df.groupby(['sensor_code', 'timestamp_rounded']).sum()\n",
    "                frames.append(final)\n",
    "            except Exception as ex:\n",
    "                print(ex, 'this is a baddy: ' + str(r)+'/'+file)\n",
    "        else:\n",
    "            overig.append(str(file))\n"
   ]
  },
  {
   "cell_type": "code",
   "execution_count": null,
   "metadata": {},
   "outputs": [],
   "source": [
    "df.groupby(['sensor_code', 'timestamp_rounded']).sum()"
   ]
  },
  {
   "cell_type": "code",
   "execution_count": null,
   "metadata": {},
   "outputs": [],
   "source": [
    "final=pd.concat(frames)\n",
    "len(final)"
   ]
  },
  {
   "cell_type": "code",
   "execution_count": null,
   "metadata": {},
   "outputs": [],
   "source": [
    "len(final)"
   ]
  },
  {
   "cell_type": "code",
   "execution_count": null,
   "metadata": {},
   "outputs": [],
   "source": [
    "final.to_csv('final.csv')"
   ]
  },
  {
   "cell_type": "code",
   "execution_count": null,
   "metadata": {},
   "outputs": [],
   "source": [
    "df.groupby(df.timestamp_rounded).sum()"
   ]
  },
  {
   "cell_type": "code",
   "execution_count": null,
   "metadata": {},
   "outputs": [],
   "source": [
    "CROWDSENSORS = os.path.join(DROOT, 'CROWDSENSOREN.csv')\n",
    "coords=pd.read_csv(CROWDSENSORS, delimiter=';').drop(columns=['Voeding', 'Privacyverklaring', 'WKT_LNG_LAT', 'WKT_LAT_LNG', 'Unnamed: 11']).set_index('OBJECTNUMMER')\n",
    "coords.head()\n"
   ]
  },
  {
   "cell_type": "code",
   "execution_count": null,
   "metadata": {
    "scrolled": false
   },
   "outputs": [],
   "source": [
    "geolocator = Nominatim(user_agent=\"myGeocoder\")\n",
    "#applying the rate limiter wrapper\n",
    "reverse = RateLimiter(geolocator.reverse, min_delay_seconds=1)\n",
    "#Applying the method to pandas DataFrame\n",
    "print(len(coords))\n",
    "coords['combo']=coords.LAT.astype(str)+', '+coords.LNG.astype(str)\n",
    "coords['location'] = coords.combo.apply(lambda x:reverse(x, exactly_one=True))\n",
    "coords['street']=coords.location.apply(lambda x: x.address)\n",
    "print(len(coords))\n",
    "coords['coords_sensor_code']=coords.Objectnummer.str.extract(r'([a-zA-z]{3,5}-\\d{2})')\n",
    "coords=coords.drop(columns=['location'])"
   ]
  },
  {
   "cell_type": "code",
   "execution_count": null,
   "metadata": {},
   "outputs": [],
   "source": [
    "coordszonderdup=coords.drop_duplicates(subset='coords_sensor_code', keep='first')"
   ]
  },
  {
   "cell_type": "code",
   "execution_count": null,
   "metadata": {},
   "outputs": [],
   "source": [
    "coordszonderdup"
   ]
  },
  {
   "cell_type": "code",
   "execution_count": null,
   "metadata": {},
   "outputs": [],
   "source": [
    "finale=df.merge(coordszonderdup[['coords_sensor_code','street','LAT','LNG']], left_on='sensor_code', right_on='coords_sensor_code', how='left')\n",
    "finale.groupby(['sensor_code', 'timestamp_rounded']).sum()"
   ]
  }
 ],
 "metadata": {
  "kernelspec": {
   "display_name": "Python 3",
   "language": "python",
   "name": "python3"
  },
  "language_info": {
   "codemirror_mode": {
    "name": "ipython",
    "version": 3
   },
   "file_extension": ".py",
   "mimetype": "text/x-python",
   "name": "python",
   "nbconvert_exporter": "python",
   "pygments_lexer": "ipython3",
   "version": "3.7.4"
  }
 },
 "nbformat": 4,
 "nbformat_minor": 4
}
