{
 "cells": [
  {
   "cell_type": "code",
   "execution_count": null,
   "metadata": {},
   "outputs": [],
   "source": [
    "import pandas as pd\n",
    "import numpy as np\n",
    "import matplotlib.pylab as plt\n",
    "import seaborn as sns\n",
    "import os\n",
    "from pathlib import Path\n",
    "import seaborn as sns\n",
    "from tqdm import tqdm\n",
    "import glob\n",
    "\n",
    "\n",
    "DROOT = '/Users/martijn/Documents/Data Science/Data Systems Project.nosync/Data'"
   ]
  },
  {
   "cell_type": "code",
   "execution_count": null,
   "metadata": {},
   "outputs": [],
   "source": [
    "dir_string = os.path.join(DROOT, 'gvb/2020/'\n",
    "#dir_string = os.getcwd() + \"/Notebook\"\n",
    "\n",
    "dirlist = os.listdir(dir_string)\n",
    "months = [i for i in dirlist if str(i).isnumeric() and not i.startswith('.')]\n",
    "\n",
    "print(dirlist)\n",
    "\n",
    "dir_string"
   ]
  },
  {
   "cell_type": "code",
   "execution_count": null,
   "metadata": {},
   "outputs": [],
   "source": [
    "#All to seperate monthly files\n",
    "for i in tqdm(months):\n",
    "    dataframes=[]\n",
    "    thisdir = path + \"/\" + str(i)\n",
    "    for j in os.listdir(thisdir):\n",
    "        if j.isnumeric() and not j.startswith('.'):\n",
    "            dir2 = os.listdir(thisdir + \"/\" + str(j))\n",
    "            for k in dir2:\n",
    "                if 'Reis_Bestemming_Datum' in k: \n",
    "                    file_dir = thisdir + \"/\" + j + \"/\" + k\n",
    "                    df = pd.read_csv(str(file_dir),sep=';')\n",
    "                    #Clean stuff\n",
    "                    df = df[df.AankomstHalteNaam != 'Overig']\n",
    "                    df = df[df.AankomstHalteNaam != '[[ Onbekend ]]']\n",
    "                    \n",
    "                    df = df.dropna()\n",
    "\n",
    "                    df = df.sort_values(by=['Datum'])\n",
    "                    dataframes.append(df)\n",
    "                    \n",
    "    merged = pd.concat(dataframes, ignore_index=True)\n",
    "    merged.to_csv('merged' + str(i) + \".csv\")\n",
    "        \n",
    "    "
   ]
  },
  {
   "cell_type": "code",
   "execution_count": null,
   "metadata": {},
   "outputs": [],
   "source": [
    "#all to one file\n",
    "filelist=[]\n",
    "for i in tqdm(months):\n",
    "    dataframes=[]\n",
    "    thisdir = dir_string + \"/\" +str(i)\n",
    "    for j in os.listdir(thisdir):\n",
    "        if j.isnumeric():\n",
    "            dir2 = os.listdir(thisdir+\"/\"+str(j))\n",
    "            for k in dir2:\n",
    "                if 'Reis_Bestemming_Datum' in k: \n",
    "                    file_dir = thisdir + \"/\" + j + \"/\" + k\n",
    "                    df = pd.read_csv(str(file_dir),sep=';')\n",
    "                    #Clean stuff\n",
    "                    df = df[df.AankomstHalteNaam != 'Overig']\n",
    "                    df = df[df.AankomstHalteNaam != '[[ Onbekend ]]']\n",
    "                    \n",
    "                    df = df.dropna()\n",
    "\n",
    "                    \n",
    "                    dataframes.append(df)\n",
    "                    \n",
    "    merged = pd.concat(dataframes, ignore_index=True)\n",
    "    filelist.append(merged)\n",
    "    \n",
    "    \n",
    "final_merged = pd.concat(filelist, ignore_index=True)"
   ]
  },
  {
   "cell_type": "code",
   "execution_count": null,
   "metadata": {},
   "outputs": [],
   "source": [
    "final_merged['Modaliteit'] = final_merged.AankomstHalteCode.str.isnumeric()\n",
    "final_merged.Modaliteit = final_merged.Modaliteit.replace(to_replace=[True],value='Tram of bus')\n",
    "final_merged.Modaliteit = final_merged.Modaliteit.replace(to_replace=[False],value='Metro')\n",
    "\n",
    "final_merged = final_merged.sort_values(by=['Datum'])\n",
    "\n",
    "\n",
    "final_merged.to_csv(\"Bestemming_Datum_merged.csv\")"
   ]
  },
  {
   "cell_type": "code",
   "execution_count": null,
   "metadata": {},
   "outputs": [],
   "source": [
    "df = pd.concat(files)\n",
    "df['DatumUurGroep'] = df[df.columns[0]] + df[df.columns[1]]  "
   ]
  },
  {
   "cell_type": "code",
   "execution_count": null,
   "metadata": {},
   "outputs": [],
   "source": [
    "files=[]\n",
    "for i in file_names:\n",
    "    if 'Reis_Bestemming_Datum' in str(i):\n",
    "        files.append(pd.read_csv(str(i),sep=';'))"
   ]
  },
  {
   "cell_type": "code",
   "execution_count": null,
   "metadata": {},
   "outputs": [],
   "source": [
    "df = pd.concat(files, ignore_index=True)\n"
   ]
  },
  {
   "cell_type": "code",
   "execution_count": null,
   "metadata": {},
   "outputs": [],
   "source": [
    "df = df.copy()"
   ]
  },
  {
   "cell_type": "code",
   "execution_count": null,
   "metadata": {},
   "outputs": [],
   "source": [
    "df = df[df.AankomstHalteNaam != 'Overig']\n",
    "df = df[df.AankomstHalteNaam != '[[ Onbekend ]]']"
   ]
  },
  {
   "cell_type": "code",
   "execution_count": null,
   "metadata": {},
   "outputs": [],
   "source": [
    "df.AankomstHalteNaam = df.AankomstHalteNaam.dropna()\n",
    "df.AantalReizen = df.AantalReizen.dropna()"
   ]
  },
  {
   "cell_type": "code",
   "execution_count": null,
   "metadata": {},
   "outputs": [],
   "source": [
    "df.AankomstHalteNaam.isna().value_counts()"
   ]
  },
  {
   "cell_type": "code",
   "execution_count": null,
   "metadata": {},
   "outputs": [],
   "source": [
    "df.AankomstHalteNaam.shape"
   ]
  },
  {
   "cell_type": "code",
   "execution_count": null,
   "metadata": {},
   "outputs": [],
   "source": [
    "df.loc[df['AankomstHalteNaam'] == '1e Coehoornstraat'].head()\n"
   ]
  }
 ],
 "metadata": {
  "kernelspec": {
   "display_name": "Python 3",
   "language": "python",
   "name": "python3"
  },
  "language_info": {
   "codemirror_mode": {
    "name": "ipython",
    "version": 3
   },
   "file_extension": ".py",
   "mimetype": "text/x-python",
   "name": "python",
   "nbconvert_exporter": "python",
   "pygments_lexer": "ipython3",
   "version": "3.7.4"
  }
 },
 "nbformat": 4,
 "nbformat_minor": 4
}
